{
 "cells": [
  {
   "cell_type": "code",
   "execution_count": 1,
   "metadata": {},
   "outputs": [],
   "source": [
    "import openai\n",
    "import json\n",
    "import pandas as pd\n",
    "from torch.utils.data import  Dataset\n",
    "import time\n",
    "from user import User\n",
    "from preprocess import Processor\n",
    "from GPT import GPT\n",
    "from manager import Manager\n",
    "from threading import Thread\n",
    "import logging"
   ]
  },
  {
   "cell_type": "code",
   "execution_count": null,
   "metadata": {},
   "outputs": [],
   "source": [
    "if __name__ == \"__main__\":\n",
    "    logging.basicConfig(filename='log.txt',\n",
    "                     format = '%(asctime)s - %(name)s - %(levelname)s - %(message)s-%(funcName)s',\n",
    "                     level=logging.INFO)\n",
    "    api_key = \"xxx\" \n",
    "    # 初始化manager processor gpt实例\n",
    "    manager = Manager()\n",
    "    processor = Processor()\n",
    "    gpt = GPT(api_key)\n",
    "    # 创建user实例\n",
    "    user1 = User(1,task='SNLI') \n",
    "    user2 = User(2,task='FEVER') \n",
    "    user3 = User(3,task='QQP') \n",
    "    user4 = User(4,task='CoLA') \n",
    "    user1_t = Thread(target=user1.run, args=(manager.submit_input,manager.request_result))\n",
    "    user2_t = Thread(target=user2.run, args=(manager.submit_input,manager.request_result))\n",
    "    user3_t = Thread(target=user3.run, args=(manager.submit_input,manager.request_result))\n",
    "    user4_t = Thread(target=user4.run, args=(manager.submit_input,manager.request_result))\n",
    "    processor_t = Thread(target=processor.run, args=(manager.submit_prompt,manager.request_input,user1.end&user2.end&user3.end&user4.end))\n",
    "    gpt_t = Thread(target=gpt.run, args=(manager.submit_result,manager.request_prompt,user1.end&user2.end&user3.end&user4.end))\n",
    "    \n",
    "    user1_t.start()\n",
    "    user2_t.start()\n",
    "    user3_t.start()\n",
    "    user4_t.start()\n",
    "    processor_t.start()\n",
    "    gpt_t.start()"
   ]
  },
  {
   "cell_type": "code",
   "execution_count": null,
   "metadata": {},
   "outputs": [],
   "source": []
  }
 ],
 "metadata": {
  "kernelspec": {
   "display_name": "base",
   "language": "python",
   "name": "python3"
  },
  "language_info": {
   "codemirror_mode": {
    "name": "ipython",
    "version": 3
   },
   "file_extension": ".py",
   "mimetype": "text/x-python",
   "name": "python",
   "nbconvert_exporter": "python",
   "pygments_lexer": "ipython3",
   "version": "3.9.7"
  },
  "orig_nbformat": 4
 },
 "nbformat": 4,
 "nbformat_minor": 2
}
