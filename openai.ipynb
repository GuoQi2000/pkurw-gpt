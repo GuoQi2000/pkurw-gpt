{
 "cells": [
  {
   "cell_type": "code",
   "execution_count": 1,
   "metadata": {},
   "outputs": [],
   "source": [
    "import openai\n",
    "import json\n",
    "import pandas as pd\n",
    "from torch.utils.data import  Dataset\n",
    "import time\n",
    "from user import User\n",
    "from preprocess import Processor\n",
    "from GPT import GPT\n",
    "from manager import Manager\n",
    "from threading import Thread"
   ]
  },
  {
   "cell_type": "code",
   "execution_count": 2,
   "metadata": {},
   "outputs": [],
   "source": [
    "key = \"xxx\"\n",
    "manager = Manager()\n",
    "user1 = User(1,task='SNLI') \n",
    "user2 = User(2,task='FEVER') \n",
    "user3 = User(3,task='QQP') \n",
    "processor = Processor()\n",
    "gpt = GPT(key)\n",
    "user1_t = Thread(target=user1.run, args=(manager.submit_input,manager.request_result))\n",
    "user2_t = Thread(target=user2.run, args=(manager.submit_input,manager.request_result))\n",
    "user3_t = Thread(target=user3.run, args=(manager.submit_input,manager.request_result))\n",
    "processor_t = Thread(target=processor.run, args=(manager.submit_prompt,manager.request_input,user1.flag|user2.flag|user3.flag))\n",
    "gpt_t = Thread(target=gpt.run, args=(manager.submit_result,manager.request_prompt,user1.flag|user2.flag|user3.flag))"
   ]
  },
  {
   "cell_type": "code",
   "execution_count": 3,
   "metadata": {},
   "outputs": [
    {
     "name": "stdout",
     "output_type": "stream",
     "text": [
      "init user\n",
      "user :  1  submits\n",
      "init user\n",
      "user :  2  submits\n",
      "init user\n",
      "user :  3  submits\n",
      "init processor\n",
      "init gpt\n"
     ]
    },
    {
     "name": "stdout",
     "output_type": "stream",
     "text": [
      "user : user :  1  submits\n",
      "user :  3  submits\n",
      " 2  submits\n",
      "user : user : user :  1  submits\n",
      " 2  submits\n",
      " 3  submits\n",
      "Overall, the relationship between the premise and hypothesis is neutral. The premise talks about the church choir singing joyous songs at a church, while the hypothesis mentions cracks in the ceiling. These two statements do not directly contradict or support each other, hence the neutral relationship.\n",
      "predict:  Premise: This church choir sings to the masses as they sing joyous songs from the book at a church. Hypothesis: The church has cracks in the ceiling. Overall, the relationship between premise and hypothesis is [z].   neutral\n",
      "user : user :  1  receives\n",
      " 3  submits\n",
      "user :  3  submits\n",
      "user :  3  submits\n"
     ]
    }
   ],
   "source": [
    "if __name__ == '__main__':\n",
    "    user1_t.start()\n",
    "    user2_t.start()\n",
    "    user3_t.start()\n",
    "    processor_t.start()\n",
    "    gpt_t.start()"
   ]
  },
  {
   "cell_type": "code",
   "execution_count": 9,
   "metadata": {},
   "outputs": [
    {
     "data": {
      "text/plain": [
       "['neutral', 'entailment']"
      ]
     },
     "execution_count": 9,
     "metadata": {},
     "output_type": "execute_result"
    }
   ],
   "source": [
    "user1.result_pool"
   ]
  },
  {
   "cell_type": "code",
   "execution_count": 10,
   "metadata": {},
   "outputs": [
    {
     "data": {
      "text/plain": [
       "['refute', 'support']"
      ]
     },
     "execution_count": 10,
     "metadata": {},
     "output_type": "execute_result"
    }
   ],
   "source": [
    "user2.result_pool"
   ]
  },
  {
   "cell_type": "code",
   "execution_count": 11,
   "metadata": {},
   "outputs": [
    {
     "data": {
      "text/plain": [
       "['not equivalent', 'not equivalent', 'equivalent']"
      ]
     },
     "execution_count": 11,
     "metadata": {},
     "output_type": "execute_result"
    }
   ],
   "source": [
    "user3.result_pool"
   ]
  },
  {
   "cell_type": "code",
   "execution_count": 11,
   "metadata": {},
   "outputs": [
    {
     "data": {
      "text/plain": [
       "[]"
      ]
     },
     "execution_count": 11,
     "metadata": {},
     "output_type": "execute_result"
    }
   ],
   "source": [
    "manager.results_pool"
   ]
  },
  {
   "cell_type": "code",
   "execution_count": null,
   "metadata": {},
   "outputs": [],
   "source": []
  }
 ],
 "metadata": {
  "kernelspec": {
   "display_name": "base",
   "language": "python",
   "name": "python3"
  },
  "language_info": {
   "codemirror_mode": {
    "name": "ipython",
    "version": 3
   },
   "file_extension": ".py",
   "mimetype": "text/x-python",
   "name": "python",
   "nbconvert_exporter": "python",
   "pygments_lexer": "ipython3",
   "version": "3.9.7"
  },
  "orig_nbformat": 4
 },
 "nbformat": 4,
 "nbformat_minor": 2
}
