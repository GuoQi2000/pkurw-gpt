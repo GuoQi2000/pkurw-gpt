{
 "cells": [
  {
   "cell_type": "code",
   "execution_count": 1,
   "metadata": {},
   "outputs": [],
   "source": [
    "import openai\n",
    "import json\n",
    "import pandas as pd\n",
    "from torch.utils.data import  Dataset\n",
    "import time\n",
    "from user import User\n",
    "from preprocess import Processor\n",
    "from GPT import GPT\n",
    "from threading import Thread"
   ]
  },
  {
   "cell_type": "code",
   "execution_count": 2,
   "metadata": {},
   "outputs": [],
   "source": [
    "user = User(1,task='SNLI') \n",
    "processor = Processor()\n",
    "gpt = GPT()"
   ]
  },
  {
   "cell_type": "code",
   "execution_count": 3,
   "metadata": {},
   "outputs": [],
   "source": [
    "t1 = Thread(target=user.run, args=())\n",
    "t2 = Thread(target=processor.run, args=(user.task,user.input_pool,user.prompt_pool,user.flag))\n",
    "t3 = Thread(target=gpt.run, args=(user.task,user.prompt_pool,user.result_pool,user.flag))"
   ]
  },
  {
   "cell_type": "code",
   "execution_count": 4,
   "metadata": {},
   "outputs": [
    {
     "name": "stdout",
     "output_type": "stream",
     "text": [
      "init user\n",
      "init processor\n",
      "init gpt\n"
     ]
    },
    {
     "name": "stdout",
     "output_type": "stream",
     "text": [
      "predict:  Premise: This church choir sings to the masses as they sing joyous songs from the book at a church. Hypothesis: The church has cracks in the ceiling. Overall, the relationship between premise and hypothesis is [z].   neutral\n",
      "predict:  Premise: This church choir sings to the masses as they sing joyous songs from the book at a church. Hypothesis: The church is filled with song. Overall, the relationship between premise and hypothesis is [z].   entailment\n",
      "predict:  Premise: This church choir sings to the masses as they sing joyous songs from the book at a church. Hypothesis: A choir singing at a baseball game. Overall, the relationship between premise and hypothesis is [z].   contradiction\n"
     ]
    }
   ],
   "source": [
    "t1.start()\n",
    "t2.start()\n",
    "t3.start()"
   ]
  },
  {
   "cell_type": "code",
   "execution_count": null,
   "metadata": {},
   "outputs": [],
   "source": []
  }
 ],
 "metadata": {
  "kernelspec": {
   "display_name": "base",
   "language": "python",
   "name": "python3"
  },
  "language_info": {
   "codemirror_mode": {
    "name": "ipython",
    "version": 3
   },
   "file_extension": ".py",
   "mimetype": "text/x-python",
   "name": "python",
   "nbconvert_exporter": "python",
   "pygments_lexer": "ipython3",
   "version": "3.9.7"
  },
  "orig_nbformat": 4
 },
 "nbformat": 4,
 "nbformat_minor": 2
}
