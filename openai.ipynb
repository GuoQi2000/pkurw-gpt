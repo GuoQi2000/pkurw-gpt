{
 "cells": [
  {
   "cell_type": "code",
   "execution_count": 1,
   "metadata": {},
   "outputs": [],
   "source": [
    "import openai\n",
    "import json\n",
    "import pandas as pd\n",
    "from torch.utils.data import  Dataset\n",
    "import time\n",
    "from user import User\n",
    "from preprocess import Processor\n",
    "from GPT import GPT\n",
    "from manager import Manager\n",
    "from threading import Thread\n",
    "import logging"
   ]
  },
  {
   "cell_type": "code",
   "execution_count": 2,
   "metadata": {},
   "outputs": [],
   "source": [
    "logging.basicConfig(filename='log.txt',\n",
    "                    filemode='a',\n",
    "                     format = '%(asctime)s - %(name)s - %(levelname)s - %(message)s-%(funcName)s',\n",
    "                     level=logging.INFO)"
   ]
  },
  {
   "cell_type": "code",
   "execution_count": 3,
   "metadata": {},
   "outputs": [],
   "source": [
    "key = 'xxx'\n",
    "manager = Manager()\n",
    "user1 = User(1,task='SNLI') \n",
    "user2 = User(2,task='FEVER') \n",
    "user3 = User(3,task='QQP') \n",
    "processor = Processor()\n",
    "gpt = GPT(key)\n",
    "user1_t = Thread(target=user1.run, args=(manager.submit_input,manager.request_result))\n",
    "user2_t = Thread(target=user2.run, args=(manager.submit_input,manager.request_result))\n",
    "user3_t = Thread(target=user3.run, args=(manager.submit_input,manager.request_result))\n",
    "processor_t = Thread(target=processor.run, args=(manager.submit_prompt,manager.request_input,user1.flag|user2.flag|user3.flag))\n",
    "gpt_t = Thread(target=gpt.run, args=(manager.submit_result,manager.request_prompt,user1.flag|user2.flag|user3.flag))"
   ]
  },
  {
   "cell_type": "code",
   "execution_count": 4,
   "metadata": {},
   "outputs": [],
   "source": [
    "if __name__ == '__main__':\n",
    "    user1_t.start()\n",
    "    user2_t.start()\n",
    "    user3_t.start()\n",
    "    processor_t.start()\n",
    "    gpt_t.start()"
   ]
  },
  {
   "cell_type": "code",
   "execution_count": 12,
   "metadata": {},
   "outputs": [
    {
     "data": {
      "text/plain": [
       "['neutral', 'entailment', 'contradiction']"
      ]
     },
     "execution_count": 12,
     "metadata": {},
     "output_type": "execute_result"
    }
   ],
   "source": [
    "user1.result_pool"
   ]
  },
  {
   "cell_type": "code",
   "execution_count": 13,
   "metadata": {},
   "outputs": [
    {
     "data": {
      "text/plain": [
       "['refute', 'support', 'refute']"
      ]
     },
     "execution_count": 13,
     "metadata": {},
     "output_type": "execute_result"
    }
   ],
   "source": [
    "user2.result_pool"
   ]
  },
  {
   "cell_type": "code",
   "execution_count": 14,
   "metadata": {},
   "outputs": [
    {
     "data": {
      "text/plain": [
       "['not equivalent', 'not equivalent', 'not equivalent']"
      ]
     },
     "execution_count": 14,
     "metadata": {},
     "output_type": "execute_result"
    },
    {
     "name": "stdout",
     "output_type": "stream",
     "text": [
      "user  3  finishes, acc =  0.0\n"
     ]
    }
   ],
   "source": [
    "user3.result_pool"
   ]
  },
  {
   "cell_type": "code",
   "execution_count": 6,
   "metadata": {},
   "outputs": [
    {
     "data": {
      "text/plain": [
       "[]"
      ]
     },
     "execution_count": 6,
     "metadata": {},
     "output_type": "execute_result"
    }
   ],
   "source": [
    "manager.inputs_pool"
   ]
  },
  {
   "cell_type": "code",
   "execution_count": 8,
   "metadata": {},
   "outputs": [
    {
     "data": {
      "text/plain": [
       "False"
      ]
     },
     "execution_count": 8,
     "metadata": {},
     "output_type": "execute_result"
    }
   ],
   "source": [
    "user1.flag"
   ]
  },
  {
   "cell_type": "code",
   "execution_count": null,
   "metadata": {},
   "outputs": [],
   "source": []
  }
 ],
 "metadata": {
  "kernelspec": {
   "display_name": "base",
   "language": "python",
   "name": "python3"
  },
  "language_info": {
   "codemirror_mode": {
    "name": "ipython",
    "version": 3
   },
   "file_extension": ".py",
   "mimetype": "text/x-python",
   "name": "python",
   "nbconvert_exporter": "python",
   "pygments_lexer": "ipython3",
   "version": "3.9.7"
  },
  "orig_nbformat": 4
 },
 "nbformat": 4,
 "nbformat_minor": 2
}
